{
 "cells": [
  {
   "cell_type": "code",
   "execution_count": 1,
   "id": "2af87105",
   "metadata": {},
   "outputs": [],
   "source": [
    "import pandas as pd\n",
    "from sklearn.model_selection import train_test_split \n",
    "import time\n",
    "import numpy as np\n",
    "from sklearn.preprocessing import StandardScaler\n",
    "from sklearn.feature_selection import SelectKBest\n",
    "from sklearn.feature_selection import chi2\n",
    "from sklearn.feature_selection import RFE\n",
    "from sklearn.linear_model import LogisticRegression\n",
    "import pickle\n",
    "import matplotlib.pyplot as plt\n",
    "from sklearn.neighbors import KNeighborsClassifier   \n",
    "from sklearn.svm import SVC\n",
    "from sklearn.ensemble import RandomForestClassifier\n",
    "from sklearn.naive_bayes import GaussianNB\n",
    "from sklearn.tree import DecisionTreeClassifier\n",
    "from sklearn.feature_selection import SequentialFeatureSelector as sfs"
   ]
  },
  {
   "cell_type": "code",
   "execution_count": 2,
   "id": "4007428c",
   "metadata": {},
   "outputs": [],
   "source": [
    "def SFS_Feature(indep_X,dep_Y):\n",
    "    \n",
    "        SFSlist1=[]\n",
    "        SFSlist=[]\n",
    "        \n",
    "        RF = RandomForestClassifier(n_estimators = 10, criterion = 'entropy', random_state = 0)\n",
    "        \n",
    "        SFSmodellist=[RF]\n",
    "        \n",
    "        for i in   SFSmodellist:\n",
    "            log_sfs = sfs(i, n_features_to_select=6 , tol=None, direction='forward', scoring=None, cv=None, n_jobs=None)\n",
    "            log_fit = log_sfs.fit(indep_X, dep_Y)\n",
    "            log_sfs_feature=log_fit.transform(indep_X)\n",
    "            SFSlist1.append(log_sfs_feature)\n",
    "            op=log_sfs.get_feature_names_out(input_features=None)\n",
    "            SFSlist.append(op)\n",
    "        return SFSlist1, SFSlist\n",
    "\n",
    "def split_scalar(indep_X,dep_Y):\n",
    "        X_train, X_test, y_train, y_test = train_test_split(indep_X, dep_Y, test_size = 0.25, random_state = 0)\n",
    "        \n",
    "        #Feature Scaling\n",
    "        #from sklearn.preprocessing import StandardScaler\n",
    "        sc = StandardScaler()\n",
    "        X_train = sc.fit_transform(X_train)\n",
    "        X_test = sc.transform(X_test)\n",
    "        \n",
    "        return X_train, X_test, y_train, y_test, sc\n",
    "    \n",
    "def cm_prediction(classifier,X_test):\n",
    "        y_pred = classifier.predict(X_test)\n",
    "        \n",
    "        # Making the Confusion Matrix\n",
    "        from sklearn.metrics import confusion_matrix\n",
    "        cm = confusion_matrix(y_test, y_pred)\n",
    "        \n",
    "        from sklearn.metrics import accuracy_score \n",
    "        from sklearn.metrics import classification_report \n",
    "        \n",
    "        Accuracy=accuracy_score(y_test, y_pred )\n",
    "        \n",
    "        report=classification_report(y_test, y_pred)\n",
    "        return  classifier,Accuracy,report,X_test,y_test,cm\n",
    "\n",
    "def random(X_train,y_train,X_test):\n",
    "        \n",
    "        from sklearn.ensemble import RandomForestClassifier\n",
    "        classifier = RandomForestClassifier(n_estimators = 10, criterion = 'entropy', random_state = 0)\n",
    "        classifier.fit(X_train, y_train)\n",
    "        classifier,Accuracy,report,X_test,y_test,cm=cm_prediction(classifier,X_test)\n",
    "        return  classifier,Accuracy,report,X_test,y_test,cm\n",
    "    \n",
    "\n",
    "def rfe_classification(accrf): \n",
    "    \n",
    "    rfedataframe=pd.DataFrame(index=['Random'],columns=['Random'])\n",
    "\n",
    "    for number,idex in enumerate(rfedataframe.index):\n",
    "        rfedataframe['Random'][idex]=accrf[number]\n",
    "    return rfedataframe"
   ]
  },
  {
   "cell_type": "code",
   "execution_count": 3,
   "id": "2f2f73dc",
   "metadata": {},
   "outputs": [],
   "source": [
    "dataset1=pd.read_csv(\"prep.csv\",index_col=None)\n",
    "df2=dataset1\n",
    "df2 = pd.get_dummies(df2, dtype=int, drop_first=True)\n",
    "\n",
    "indep_X=df2.drop('classification_yes', axis=1)\n",
    "dep_Y=df2['classification_yes']"
   ]
  },
  {
   "cell_type": "code",
   "execution_count": 4,
   "id": "87dd2286",
   "metadata": {},
   "outputs": [],
   "source": [
    "SFSlist=SFS_Feature(indep_X,dep_Y)       \n",
    "\n",
    "accrf=[]"
   ]
  },
  {
   "cell_type": "code",
   "execution_count": 5,
   "id": "7b7a10c4",
   "metadata": {},
   "outputs": [],
   "source": [
    "SFSlist, SFSlist1=SFSlist"
   ]
  },
  {
   "cell_type": "code",
   "execution_count": 6,
   "id": "dea17f39",
   "metadata": {},
   "outputs": [
    {
     "data": {
      "text/plain": [
       "[array([[  3.        ,  57.48210526,  38.86890244,   1.        ,\n",
       "           0.        ,   0.        ],\n",
       "        [  2.        ,  22.        ,  34.        ,   1.        ,\n",
       "           0.        ,   0.        ],\n",
       "        [  1.        ,  23.        ,  34.        ,   0.        ,\n",
       "           0.        ,   0.        ],\n",
       "        ...,\n",
       "        [  3.        , 115.        ,  26.        ,   1.        ,\n",
       "           0.        ,   1.        ],\n",
       "        [  0.        ,  80.        ,  38.86890244,   0.        ,\n",
       "           0.        ,   1.        ],\n",
       "        [  0.        ,  49.        ,  53.        ,   0.        ,\n",
       "           0.        ,   0.        ]])]"
      ]
     },
     "execution_count": 6,
     "metadata": {},
     "output_type": "execute_result"
    }
   ],
   "source": [
    "SFSlist"
   ]
  },
  {
   "cell_type": "code",
   "execution_count": 7,
   "id": "a599dad7",
   "metadata": {},
   "outputs": [
    {
     "data": {
      "text/plain": [
       "[array(['al', 'bu', 'pcv', 'sg_c', 'sg_d', 'dm_yes'], dtype=object)]"
      ]
     },
     "execution_count": 7,
     "metadata": {},
     "output_type": "execute_result"
    }
   ],
   "source": [
    "SFSlist1"
   ]
  },
  {
   "cell_type": "code",
   "execution_count": 8,
   "id": "2e04db80",
   "metadata": {},
   "outputs": [],
   "source": [
    "for i in SFSlist:   \n",
    "    X_train, X_test, y_train, y_test, sc=split_scalar(i,dep_Y)   \n",
    "      \n",
    "    classifier,Accuracy,report,X_test,y_test,cm=random(X_train,y_train,X_test)  \n",
    "    accrf.append(Accuracy)\n",
    "    \n",
    "result=rfe_classification(accrf)"
   ]
  },
  {
   "cell_type": "code",
   "execution_count": 9,
   "id": "ee54fa20",
   "metadata": {},
   "outputs": [
    {
     "data": {
      "text/html": [
       "<div>\n",
       "<style scoped>\n",
       "    .dataframe tbody tr th:only-of-type {\n",
       "        vertical-align: middle;\n",
       "    }\n",
       "\n",
       "    .dataframe tbody tr th {\n",
       "        vertical-align: top;\n",
       "    }\n",
       "\n",
       "    .dataframe thead th {\n",
       "        text-align: right;\n",
       "    }\n",
       "</style>\n",
       "<table border=\"1\" class=\"dataframe\">\n",
       "  <thead>\n",
       "    <tr style=\"text-align: right;\">\n",
       "      <th></th>\n",
       "      <th>Random</th>\n",
       "    </tr>\n",
       "  </thead>\n",
       "  <tbody>\n",
       "    <tr>\n",
       "      <th>Random</th>\n",
       "      <td>0.99</td>\n",
       "    </tr>\n",
       "  </tbody>\n",
       "</table>\n",
       "</div>"
      ],
      "text/plain": [
       "       Random\n",
       "Random   0.99"
      ]
     },
     "execution_count": 9,
     "metadata": {},
     "output_type": "execute_result"
    }
   ],
   "source": [
    "result\n",
    "#5"
   ]
  },
  {
   "cell_type": "code",
   "execution_count": 10,
   "id": "dc44dfd0",
   "metadata": {},
   "outputs": [],
   "source": [
    "import pickle\n",
    "scaler_file=\"scaler_x.pkl\"\n",
    "pickle.dump(sc,open(scaler_file,\"wb\"))\n",
    "sc=pickle.load(open(\"scaler_x.pkl\",'rb'))\n"
   ]
  },
  {
   "cell_type": "code",
   "execution_count": 11,
   "id": "d0360410",
   "metadata": {},
   "outputs": [],
   "source": [
    "import pickle\n",
    "filename=\"SFS_Sklearn_Forward.sav\"\n",
    "\n",
    "pickle.dump(classifier,open(filename,'wb'))"
   ]
  },
  {
   "cell_type": "code",
   "execution_count": 12,
   "id": "05bfb13b",
   "metadata": {},
   "outputs": [],
   "source": [
    "loaded_module=pickle.load(open(\"SFS_Sklearn_Forward.sav\",'rb'))"
   ]
  },
  {
   "cell_type": "code",
   "execution_count": 13,
   "id": "831fd011",
   "metadata": {},
   "outputs": [
    {
     "data": {
      "text/plain": [
       "array([[ 1.75526219, -0.05492745, -0.00788715,  1.91621371, -0.46416285,\n",
       "        -0.73029674]])"
      ]
     },
     "execution_count": 13,
     "metadata": {},
     "output_type": "execute_result"
    }
   ],
   "source": [
    "preinput=sc.transform([[3,57.48,38.86,1,0,0]])\n",
    "preinput"
   ]
  },
  {
   "cell_type": "code",
   "execution_count": 14,
   "id": "3cd4ea88",
   "metadata": {},
   "outputs": [
    {
     "data": {
      "text/plain": [
       "array([1])"
      ]
     },
     "execution_count": 14,
     "metadata": {},
     "output_type": "execute_result"
    }
   ],
   "source": [
    "result1=loaded_module.predict(preinput)\n",
    "result1"
   ]
  },
  {
   "cell_type": "code",
   "execution_count": null,
   "id": "2aaadf6b",
   "metadata": {},
   "outputs": [],
   "source": []
  }
 ],
 "metadata": {
  "kernelspec": {
   "display_name": "Python 3 (ipykernel)",
   "language": "python",
   "name": "python3"
  },
  "language_info": {
   "codemirror_mode": {
    "name": "ipython",
    "version": 3
   },
   "file_extension": ".py",
   "mimetype": "text/x-python",
   "name": "python",
   "nbconvert_exporter": "python",
   "pygments_lexer": "ipython3",
   "version": "3.11.5"
  }
 },
 "nbformat": 4,
 "nbformat_minor": 5
}
